{
 "cells": [
  {
   "cell_type": "code",
   "execution_count": null,
   "id": "8ba3fb33",
   "metadata": {},
   "outputs": [],
   "source": [
    "import wandb\n",
    "import pandas as pd\n",
    "\n",
    "run = wandb.init(project=\"nyc_airbnb\", group=\"eda\", save_code=True)\n",
    "local_path = wandb.use_artifact(\"sample.csv:latest\").file()\n",
    "df = pd.read_csv(local_path)"
   ]
  },
  {
   "cell_type": "code",
   "execution_count": null,
   "id": "40615962",
   "metadata": {},
   "outputs": [],
   "source": [
    "%pip install wandb==13.10"
   ]
  },
  {
   "cell_type": "code",
   "execution_count": 3,
   "id": "8f38972a",
   "metadata": {},
   "outputs": [
    {
     "name": "stdout",
     "output_type": "stream",
     "text": [
      "name: eda\r\n",
      "channels:\r\n",
      "  - conda-forge\r\n",
      "  - defaults\r\n",
      "dependencies:\r\n",
      "  - jupyterlab=3.0.12\r\n",
      "  - seaborn=0.11.1\r\n",
      "  - pandas=1.2.3\r\n",
      "  - pip=20.3.3\r\n",
      "  - pandas-profiling=2.11.0\r\n",
      "  - pyarrow=2.0\r\n",
      "  - pip:\r\n",
      "      - wandb==0.10.31"
     ]
    }
   ],
   "source": [
    "!cat conda.yml\n"
   ]
  },
  {
   "cell_type": "code",
   "execution_count": null,
   "id": "312b0285",
   "metadata": {},
   "outputs": [],
   "source": []
  }
 ],
 "metadata": {
  "kernelspec": {
   "display_name": "Python 3",
   "language": "python",
   "name": "python3"
  },
  "language_info": {
   "codemirror_mode": {
    "name": "ipython",
    "version": 3
   },
   "file_extension": ".py",
   "mimetype": "text/x-python",
   "name": "python",
   "nbconvert_exporter": "python",
   "pygments_lexer": "ipython3",
   "version": "3.8.10"
  }
 },
 "nbformat": 4,
 "nbformat_minor": 5
}
